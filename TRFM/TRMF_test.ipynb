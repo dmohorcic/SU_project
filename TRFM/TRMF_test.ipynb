{
 "cells": [
  {
   "cell_type": "code",
   "execution_count": 1,
   "id": "952b3b87",
   "metadata": {},
   "outputs": [],
   "source": [
    "import numpy as np\n",
    "import pandas as pd\n",
    "import random\n",
    "\n",
    "from trmf import trmf\n",
    "from synthetic_data import SyntheticData\n",
    "\n",
    "from Forecast import AutoRegressionModel, NaiveModel, MeanModel\n",
    "from RollingCV import RollingCV, get_slice\n",
    "\n",
    "import matplotlib.pyplot as plt\n",
    "%matplotlib inline"
   ]
  },
  {
   "cell_type": "markdown",
   "id": "db6c212e",
   "metadata": {},
   "source": [
    "## Synthetic data"
   ]
  },
  {
   "cell_type": "code",
   "execution_count": 31,
   "id": "e90b7039",
   "metadata": {},
   "outputs": [],
   "source": [
    "N = 16\n",
    "T = 128\n",
    "K = 4\n",
    "lags = [1,8]\n",
    "L = len(lags)\n",
    "sigma_w = 0.5\n",
    "sigma_x = 0.1\n",
    "sigma_t = 0.0\n",
    "\n",
    "sd = SyntheticData(N, T, K, lags, sigma_w, sigma_x, sigma_t, seed=2)\n",
    "sd.synthesize_data()\n",
    "data = sd.get_data()"
   ]
  },
  {
   "cell_type": "code",
   "execution_count": 32,
   "id": "ffa6c3fd",
   "metadata": {},
   "outputs": [
    {
     "data": {
      "image/png": "[encoded data removed]",
      "text/plain": [
       "<Figure size 432x288 with 1 Axes>"
      ]
     },
     "metadata": {
      "needs_background": "light"
     },
     "output_type": "display_data"
    }
   ],
   "source": [
    "plt.figure()\n",
    "plt.plot(data[0], color='blue')\n",
    "\n",
    "plt.xlabel('timepoint')\n",
    "plt.ylabel('value')\n",
    "\n",
    "plt.show()"
   ]
  },
  {
   "cell_type": "code",
   "execution_count": 34,
   "id": "d7ed3b9b",
   "metadata": {},
   "outputs": [
    {
     "name": "stdout",
     "output_type": "stream",
     "text": [
      "ND scores...\n",
      "NRMSE scores...\n",
      "MAE scores...\n",
      "TRMF performance ND 0.28, NRMSE: 0.325, MAE: 0.482, MSE: 0.378\n"
     ]
    }
   ],
   "source": [
    "# TRMF model\n",
    "lambda_f = 1.\n",
    "lambda_x = 1.\n",
    "lambda_w = 1.\n",
    "eta = 1.\n",
    "alpha = 1000.\n",
    "max_iter = 5000\n",
    "\n",
    "model = trmf(lags, K, lambda_f, lambda_x, lambda_w, alpha, eta, max_iter)\n",
    "\n",
    "scores_nd = RollingCV(model, data, T-10, 1, T_step=1, metric='ND')\n",
    "print(\"ND scores...\")\n",
    "scores_nrmse = RollingCV(model, data, T-10, 1, T_step=1, metric='NRMSE')\n",
    "print(\"NRMSE scores...\")\n",
    "scores_mae = RollingCV(model, data, T-10, 1, T_step=1, metric='MAE')\n",
    "print(\"MAE scores...\")\n",
    "scores_mse = RollingCV(model, data, T-10, 1, T_step=1, metric='MSE')\n",
    "print('TRMF performance ND {}, NRMSE: {}, MAE: {}, MSE: {}'.format(round(np.array(scores_nd).mean(),3),\\\n",
    "                                                                   round(np.array(scores_nrmse).mean(),3), \\\n",
    "                                                                   round(np.array(scores_mae).mean(),3), \\\n",
    "                                                                   round(np.array(scores_mse).mean(),3)))"
   ]
  },
  {
   "cell_type": "markdown",
   "id": "c4f3ff02",
   "metadata": {},
   "source": [
    "## Electricity"
   ]
  },
  {
   "cell_type": "code",
   "execution_count": 35,
   "id": "c16ab0f7",
   "metadata": {},
   "outputs": [
    {
     "data": {
      "text/html": [
       "<div>\n",
       "<style scoped>\n",
       "    .dataframe tbody tr th:only-of-type {\n",
       "        vertical-align: middle;\n",
       "    }\n",
       "\n",
       "    .dataframe tbody tr th {\n",
       "        vertical-align: top;\n",
       "    }\n",
       "\n",
       "    .dataframe thead th {\n",
       "        text-align: right;\n",
       "    }\n",
       "</style>\n",
       "<table border=\"1\" class=\"dataframe\">\n",
       "  <thead>\n",
       "    <tr style=\"text-align: right;\">\n",
       "      <th></th>\n",
       "      <th>Unnamed: 0</th>\n",
       "      <th>MT_001</th>\n",
       "      <th>MT_002</th>\n",
       "      <th>MT_003</th>\n",
       "      <th>MT_004</th>\n",
       "      <th>MT_005</th>\n",
       "      <th>MT_006</th>\n",
       "      <th>MT_007</th>\n",
       "      <th>MT_008</th>\n",
       "      <th>MT_009</th>\n",
       "      <th>...</th>\n",
       "      <th>MT_361</th>\n",
       "      <th>MT_362</th>\n",
       "      <th>MT_363</th>\n",
       "      <th>MT_364</th>\n",
       "      <th>MT_365</th>\n",
       "      <th>MT_366</th>\n",
       "      <th>MT_367</th>\n",
       "      <th>MT_368</th>\n",
       "      <th>MT_369</th>\n",
       "      <th>MT_370</th>\n",
       "    </tr>\n",
       "  </thead>\n",
       "  <tbody>\n",
       "    <tr>\n",
       "      <th>0</th>\n",
       "      <td>2011-01-01 00:15:00</td>\n",
       "      <td>0.0</td>\n",
       "      <td>0.0</td>\n",
       "      <td>0.0</td>\n",
       "      <td>0.0</td>\n",
       "      <td>0.0</td>\n",
       "      <td>0.0</td>\n",
       "      <td>0.0</td>\n",
       "      <td>0.0</td>\n",
       "      <td>0.0</td>\n",
       "      <td>...</td>\n",
       "      <td>0.0</td>\n",
       "      <td>0.0</td>\n",
       "      <td>0.0</td>\n",
       "      <td>0.0</td>\n",
       "      <td>0.0</td>\n",
       "      <td>0.0</td>\n",
       "      <td>0.0</td>\n",
       "      <td>0.0</td>\n",
       "      <td>0.0</td>\n",
       "      <td>0.0</td>\n",
       "    </tr>\n",
       "    <tr>\n",
       "      <th>1</th>\n",
       "      <td>2011-01-01 00:30:00</td>\n",
       "      <td>0.0</td>\n",
       "      <td>0.0</td>\n",
       "      <td>0.0</td>\n",
       "      <td>0.0</td>\n",
       "      <td>0.0</td>\n",
       "      <td>0.0</td>\n",
       "      <td>0.0</td>\n",
       "      <td>0.0</td>\n",
       "      <td>0.0</td>\n",
       "      <td>...</td>\n",
       "      <td>0.0</td>\n",
       "      <td>0.0</td>\n",
       "      <td>0.0</td>\n",
       "      <td>0.0</td>\n",
       "      <td>0.0</td>\n",
       "      <td>0.0</td>\n",
       "      <td>0.0</td>\n",
       "      <td>0.0</td>\n",
       "      <td>0.0</td>\n",
       "      <td>0.0</td>\n",
       "    </tr>\n",
       "    <tr>\n",
       "      <th>2</th>\n",
       "      <td>2011-01-01 00:45:00</td>\n",
       "      <td>0.0</td>\n",
       "      <td>0.0</td>\n",
       "      <td>0.0</td>\n",
       "      <td>0.0</td>\n",
       "      <td>0.0</td>\n",
       "      <td>0.0</td>\n",
       "      <td>0.0</td>\n",
       "      <td>0.0</td>\n",
       "      <td>0.0</td>\n",
       "      <td>...</td>\n",
       "      <td>0.0</td>\n",
       "      <td>0.0</td>\n",
       "      <td>0.0</td>\n",
       "      <td>0.0</td>\n",
       "      <td>0.0</td>\n",
       "      <td>0.0</td>\n",
       "      <td>0.0</td>\n",
       "      <td>0.0</td>\n",
       "      <td>0.0</td>\n",
       "      <td>0.0</td>\n",
       "    </tr>\n",
       "    <tr>\n",
       "      <th>3</th>\n",
       "      <td>2011-01-01 01:00:00</td>\n",
       "      <td>0.0</td>\n",
       "      <td>0.0</td>\n",
       "      <td>0.0</td>\n",
       "      <td>0.0</td>\n",
       "      <td>0.0</td>\n",
       "      <td>0.0</td>\n",
       "      <td>0.0</td>\n",
       "      <td>0.0</td>\n",
       "      <td>0.0</td>\n",
       "      <td>...</td>\n",
       "      <td>0.0</td>\n",
       "      <td>0.0</td>\n",
       "      <td>0.0</td>\n",
       "      <td>0.0</td>\n",
       "      <td>0.0</td>\n",
       "      <td>0.0</td>\n",
       "      <td>0.0</td>\n",
       "      <td>0.0</td>\n",
       "      <td>0.0</td>\n",
       "      <td>0.0</td>\n",
       "    </tr>\n",
       "    <tr>\n",
       "      <th>4</th>\n",
       "      <td>2011-01-01 01:15:00</td>\n",
       "      <td>0.0</td>\n",
       "      <td>0.0</td>\n",
       "      <td>0.0</td>\n",
       "      <td>0.0</td>\n",
       "      <td>0.0</td>\n",
       "      <td>0.0</td>\n",
       "      <td>0.0</td>\n",
       "      <td>0.0</td>\n",
       "      <td>0.0</td>\n",
       "      <td>...</td>\n",
       "      <td>0.0</td>\n",
       "      <td>0.0</td>\n",
       "      <td>0.0</td>\n",
       "      <td>0.0</td>\n",
       "      <td>0.0</td>\n",
       "      <td>0.0</td>\n",
       "      <td>0.0</td>\n",
       "      <td>0.0</td>\n",
       "      <td>0.0</td>\n",
       "      <td>0.0</td>\n",
       "    </tr>\n",
       "  </tbody>\n",
       "</table>\n",
       "<p>5 rows × 371 columns</p>\n",
       "</div>"
      ],
      "text/plain": [
       "            Unnamed: 0  MT_001  MT_002  MT_003  MT_004  MT_005  MT_006  \\\n",
       "0  2011-01-01 00:15:00     0.0     0.0     0.0     0.0     0.0     0.0   \n",
       "1  2011-01-01 00:30:00     0.0     0.0     0.0     0.0     0.0     0.0   \n",
       "2  2011-01-01 00:45:00     0.0     0.0     0.0     0.0     0.0     0.0   \n",
       "3  2011-01-01 01:00:00     0.0     0.0     0.0     0.0     0.0     0.0   \n",
       "4  2011-01-01 01:15:00     0.0     0.0     0.0     0.0     0.0     0.0   \n",
       "\n",
       "   MT_007  MT_008  MT_009  ...  MT_361  MT_362  MT_363  MT_364  MT_365  \\\n",
       "0     0.0     0.0     0.0  ...     0.0     0.0     0.0     0.0     0.0   \n",
       "1     0.0     0.0     0.0  ...     0.0     0.0     0.0     0.0     0.0   \n",
       "2     0.0     0.0     0.0  ...     0.0     0.0     0.0     0.0     0.0   \n",
       "3     0.0     0.0     0.0  ...     0.0     0.0     0.0     0.0     0.0   \n",
       "4     0.0     0.0     0.0  ...     0.0     0.0     0.0     0.0     0.0   \n",
       "\n",
       "   MT_366  MT_367  MT_368  MT_369  MT_370  \n",
       "0     0.0     0.0     0.0     0.0     0.0  \n",
       "1     0.0     0.0     0.0     0.0     0.0  \n",
       "2     0.0     0.0     0.0     0.0     0.0  \n",
       "3     0.0     0.0     0.0     0.0     0.0  \n",
       "4     0.0     0.0     0.0     0.0     0.0  \n",
       "\n",
       "[5 rows x 371 columns]"
      ]
     },
     "execution_count": 35,
     "metadata": {},
     "output_type": "execute_result"
    }
   ],
   "source": [
    "electricity = pd.read_table('../data/LD2011_2014.txt', sep=';', decimal=',')\n",
    "electricity.head()"
   ]
  },
  {
   "cell_type": "code",
   "execution_count": 36,
   "id": "9b44be6b",
   "metadata": {},
   "outputs": [
    {
     "data": {
      "text/plain": [
       "(370, 750)"
      ]
     },
     "execution_count": 36,
     "metadata": {},
     "output_type": "execute_result"
    }
   ],
   "source": [
    "# transpose and sum by hours\n",
    "data = electricity.values[:,1:].T.reshape((35064*370,4)).sum(axis=1).reshape((370,35064))[:,10064:].astype(float)[:, -750:]\n",
    "data.shape"
   ]
  },
  {
   "cell_type": "code",
   "execution_count": 37,
   "id": "5217f849",
   "metadata": {},
   "outputs": [
    {
     "data": {
      "image/png": "[encoded data removed]",
      "text/plain": [
       "<Figure size 1080x576 with 1 Axes>"
      ]
     },
     "metadata": {
      "needs_background": "light"
     },
     "output_type": "display_data"
    }
   ],
   "source": [
    "plt.figure(figsize=(15,8))\n",
    "plt.plot(data[0], color='blue')\n",
    "\n",
    "plt.xlabel('timepoint')\n",
    "plt.ylabel('value')\n",
    "\n",
    "plt.show()"
   ]
  },
  {
   "cell_type": "code",
   "execution_count": 38,
   "id": "e585e751",
   "metadata": {},
   "outputs": [],
   "source": [
    "N = 370\n",
    "T = 750\n",
    "K = 8\n",
    "lags = [1, 24]\n",
    "L = len(lags)"
   ]
  },
  {
   "cell_type": "code",
   "execution_count": 39,
   "id": "08a1130c",
   "metadata": {},
   "outputs": [],
   "source": [
    "lambda_f = 2.\n",
    "lambda_x = 2.\n",
    "lambda_w = 2.\n",
    "eta = 1.\n",
    "alpha = 1000.\n",
    "model = trmf(lags, K, lambda_f, lambda_x, lambda_w, alpha, eta, max_iter=1000)"
   ]
  },
  {
   "cell_type": "code",
   "execution_count": 40,
   "id": "faecccdc",
   "metadata": {},
   "outputs": [],
   "source": [
    "T_start = 396\n",
    "train, test = get_slice(data, 24*7, 24, T_start)"
   ]
  },
  {
   "cell_type": "code",
   "execution_count": 41,
   "id": "4b1a19cb",
   "metadata": {},
   "outputs": [],
   "source": [
    "model.fit(train)"
   ]
  },
  {
   "cell_type": "code",
   "execution_count": 42,
   "id": "25397cab",
   "metadata": {},
   "outputs": [
    {
     "data": {
      "text/plain": [
       "0.6723897940366281"
      ]
     },
     "execution_count": 42,
     "metadata": {},
     "output_type": "execute_result"
    }
   ],
   "source": [
    "pred = model.predict(24)\n",
    "abs(pred-test).mean()"
   ]
  },
  {
   "cell_type": "code",
   "execution_count": 43,
   "id": "2e68cc00",
   "metadata": {
    "scrolled": true
   },
   "outputs": [
    {
     "data": {
      "image/png": "[encoded data removed]",
      "text/plain": [
       "<Figure size 432x288 with 1 Axes>"
      ]
     },
     "metadata": {
      "needs_background": "light"
     },
     "output_type": "display_data"
    }
   ],
   "source": [
    "train_preds = np.dot(model.F, model.X)\n",
    "test_preds = model.predict(24)\n",
    "\n",
    "idx = 10\n",
    "\n",
    "plt.figure() # figsize=(15,8)\n",
    "plt.plot(train[idx], label='train data', color='blue')\n",
    "plt.plot(train_preds[idx], label='train prediction', color='red')\n",
    "\n",
    "plt.plot([i+24*7 for i in range(24)], test[idx], label=\"test data\", color=\"green\")\n",
    "plt.plot([i+24*7 for i in range(24)], test_preds[idx], label=\"test prediction\", color=\"purple\")\n",
    "\n",
    "plt.title('Performance in train and test data')\n",
    "plt.xlabel('timepoint')\n",
    "plt.ylabel('value')\n",
    "\n",
    "plt.legend(loc=\"upper left\")\n",
    "#plt.savefig(\"../images/trmf_forecast.png\", facecolor=\"white\", bbox_inches=\"tight\")\n",
    "plt.show()"
   ]
  },
  {
   "cell_type": "code",
   "execution_count": 44,
   "id": "2c4a404f",
   "metadata": {},
   "outputs": [
    {
     "name": "stdout",
     "output_type": "stream",
     "text": [
      "ND scores...\n",
      "NRMSE scores...\n",
      "MAE scores...\n",
      "TRMF performance ND 0.569, NRMSE: 0.917, MAE: 0.63, MSE: 0.851\n"
     ]
    }
   ],
   "source": [
    "# TRMF model\n",
    "lags = [1, 24]\n",
    "K = 20\n",
    "lambda_f = 1.\n",
    "lambda_x = 1.\n",
    "lambda_w = 1.\n",
    "eta = 1.\n",
    "alpha = 1000.\n",
    "max_iter = 1000\n",
    "\n",
    "model = trmf(lags, K, lambda_f, lambda_x, lambda_w, alpha, eta, max_iter)\n",
    "\n",
    "scores_nd = RollingCV(model, data, 24*7, 24, T_step=12, metric='ND')\n",
    "print(\"ND scores...\")\n",
    "scores_nrmse = RollingCV(model, data, T-24*7, 24, T_step=12, metric='NRMSE')\n",
    "print(\"NRMSE scores...\")\n",
    "scores_mae = RollingCV(model, data, T-24*7, 24, T_step=12, metric='MAE')\n",
    "print(\"MAE scores...\")\n",
    "scores_mse = RollingCV(model, data, T-24*7, 24, T_step=12, metric='MSE')\n",
    "print('TRMF performance ND {}, NRMSE: {}, MAE: {}, MSE: {}'.format(round(np.array(scores_nd).mean(),3),\\\n",
    "                                                                   round(np.array(scores_nrmse).mean(),3), \\\n",
    "                                                                   round(np.array(scores_mae).mean(),3), \\\n",
    "                                                                   round(np.array(scores_mse).mean(),3)))"
   ]
  },
  {
   "cell_type": "markdown",
   "id": "d1cf21c7",
   "metadata": {},
   "source": [
    "## Traffic"
   ]
  },
  {
   "cell_type": "code",
   "execution_count": 16,
   "id": "e0e5b136",
   "metadata": {},
   "outputs": [
    {
     "data": {
      "text/html": [
       "<div>\n",
       "<style scoped>\n",
       "    .dataframe tbody tr th:only-of-type {\n",
       "        vertical-align: middle;\n",
       "    }\n",
       "\n",
       "    .dataframe tbody tr th {\n",
       "        vertical-align: top;\n",
       "    }\n",
       "\n",
       "    .dataframe thead th {\n",
       "        text-align: right;\n",
       "    }\n",
       "</style>\n",
       "<table border=\"1\" class=\"dataframe\">\n",
       "  <thead>\n",
       "    <tr style=\"text-align: right;\">\n",
       "      <th></th>\n",
       "      <th>r_0</th>\n",
       "      <th>r_1</th>\n",
       "      <th>r_2</th>\n",
       "      <th>r_3</th>\n",
       "      <th>r_4</th>\n",
       "      <th>r_5</th>\n",
       "      <th>r_6</th>\n",
       "      <th>r_7</th>\n",
       "      <th>r_8</th>\n",
       "      <th>r_9</th>\n",
       "      <th>...</th>\n",
       "      <th>r_852</th>\n",
       "      <th>r_853</th>\n",
       "      <th>r_854</th>\n",
       "      <th>r_855</th>\n",
       "      <th>r_856</th>\n",
       "      <th>r_857</th>\n",
       "      <th>r_858</th>\n",
       "      <th>r_859</th>\n",
       "      <th>r_860</th>\n",
       "      <th>r_861</th>\n",
       "    </tr>\n",
       "  </thead>\n",
       "  <tbody>\n",
       "    <tr>\n",
       "      <th>0</th>\n",
       "      <td>0.0048</td>\n",
       "      <td>0.0146</td>\n",
       "      <td>0.0289</td>\n",
       "      <td>0.0142</td>\n",
       "      <td>0.0064</td>\n",
       "      <td>0.0232</td>\n",
       "      <td>0.0162</td>\n",
       "      <td>0.0242</td>\n",
       "      <td>0.0341</td>\n",
       "      <td>0.0375</td>\n",
       "      <td>...</td>\n",
       "      <td>0.0051</td>\n",
       "      <td>0.0051</td>\n",
       "      <td>0.0074</td>\n",
       "      <td>0.0079</td>\n",
       "      <td>0.0051</td>\n",
       "      <td>0.0051</td>\n",
       "      <td>0.0339</td>\n",
       "      <td>0.0051</td>\n",
       "      <td>0.0100</td>\n",
       "      <td>0.0121</td>\n",
       "    </tr>\n",
       "    <tr>\n",
       "      <th>1</th>\n",
       "      <td>0.0072</td>\n",
       "      <td>0.0148</td>\n",
       "      <td>0.0350</td>\n",
       "      <td>0.0174</td>\n",
       "      <td>0.0084</td>\n",
       "      <td>0.0240</td>\n",
       "      <td>0.0201</td>\n",
       "      <td>0.0338</td>\n",
       "      <td>0.0434</td>\n",
       "      <td>0.0381</td>\n",
       "      <td>...</td>\n",
       "      <td>0.0036</td>\n",
       "      <td>0.0036</td>\n",
       "      <td>0.0107</td>\n",
       "      <td>0.0058</td>\n",
       "      <td>0.0036</td>\n",
       "      <td>0.0036</td>\n",
       "      <td>0.0348</td>\n",
       "      <td>0.0036</td>\n",
       "      <td>0.0087</td>\n",
       "      <td>0.0136</td>\n",
       "    </tr>\n",
       "    <tr>\n",
       "      <th>2</th>\n",
       "      <td>0.0040</td>\n",
       "      <td>0.0101</td>\n",
       "      <td>0.0267</td>\n",
       "      <td>0.0124</td>\n",
       "      <td>0.0049</td>\n",
       "      <td>0.0170</td>\n",
       "      <td>0.0127</td>\n",
       "      <td>0.0255</td>\n",
       "      <td>0.0332</td>\n",
       "      <td>0.0309</td>\n",
       "      <td>...</td>\n",
       "      <td>0.0030</td>\n",
       "      <td>0.0030</td>\n",
       "      <td>0.0043</td>\n",
       "      <td>0.0050</td>\n",
       "      <td>0.0030</td>\n",
       "      <td>0.0030</td>\n",
       "      <td>0.0327</td>\n",
       "      <td>0.0030</td>\n",
       "      <td>0.0061</td>\n",
       "      <td>0.0107</td>\n",
       "    </tr>\n",
       "    <tr>\n",
       "      <th>3</th>\n",
       "      <td>0.0039</td>\n",
       "      <td>0.0060</td>\n",
       "      <td>0.0218</td>\n",
       "      <td>0.0090</td>\n",
       "      <td>0.0029</td>\n",
       "      <td>0.0118</td>\n",
       "      <td>0.0088</td>\n",
       "      <td>0.0163</td>\n",
       "      <td>0.0211</td>\n",
       "      <td>0.0199</td>\n",
       "      <td>...</td>\n",
       "      <td>0.0033</td>\n",
       "      <td>0.0033</td>\n",
       "      <td>0.0019</td>\n",
       "      <td>0.0052</td>\n",
       "      <td>0.0033</td>\n",
       "      <td>0.0033</td>\n",
       "      <td>0.0292</td>\n",
       "      <td>0.0033</td>\n",
       "      <td>0.0040</td>\n",
       "      <td>0.0071</td>\n",
       "    </tr>\n",
       "    <tr>\n",
       "      <th>4</th>\n",
       "      <td>0.0042</td>\n",
       "      <td>0.0055</td>\n",
       "      <td>0.0191</td>\n",
       "      <td>0.0082</td>\n",
       "      <td>0.0024</td>\n",
       "      <td>0.0095</td>\n",
       "      <td>0.0064</td>\n",
       "      <td>0.0087</td>\n",
       "      <td>0.0144</td>\n",
       "      <td>0.0226</td>\n",
       "      <td>...</td>\n",
       "      <td>0.0049</td>\n",
       "      <td>0.0049</td>\n",
       "      <td>0.0011</td>\n",
       "      <td>0.0071</td>\n",
       "      <td>0.0049</td>\n",
       "      <td>0.0049</td>\n",
       "      <td>0.0264</td>\n",
       "      <td>0.0049</td>\n",
       "      <td>0.0040</td>\n",
       "      <td>0.0039</td>\n",
       "    </tr>\n",
       "    <tr>\n",
       "      <th>...</th>\n",
       "      <td>...</td>\n",
       "      <td>...</td>\n",
       "      <td>...</td>\n",
       "      <td>...</td>\n",
       "      <td>...</td>\n",
       "      <td>...</td>\n",
       "      <td>...</td>\n",
       "      <td>...</td>\n",
       "      <td>...</td>\n",
       "      <td>...</td>\n",
       "      <td>...</td>\n",
       "      <td>...</td>\n",
       "      <td>...</td>\n",
       "      <td>...</td>\n",
       "      <td>...</td>\n",
       "      <td>...</td>\n",
       "      <td>...</td>\n",
       "      <td>...</td>\n",
       "      <td>...</td>\n",
       "      <td>...</td>\n",
       "      <td>...</td>\n",
       "    </tr>\n",
       "    <tr>\n",
       "      <th>17539</th>\n",
       "      <td>0.0342</td>\n",
       "      <td>0.0332</td>\n",
       "      <td>0.1378</td>\n",
       "      <td>0.0559</td>\n",
       "      <td>0.0165</td>\n",
       "      <td>0.0386</td>\n",
       "      <td>0.0457</td>\n",
       "      <td>0.0687</td>\n",
       "      <td>0.0716</td>\n",
       "      <td>0.0518</td>\n",
       "      <td>...</td>\n",
       "      <td>0.0139</td>\n",
       "      <td>0.0179</td>\n",
       "      <td>0.0278</td>\n",
       "      <td>0.0280</td>\n",
       "      <td>0.0227</td>\n",
       "      <td>0.0375</td>\n",
       "      <td>0.0142</td>\n",
       "      <td>0.0201</td>\n",
       "      <td>0.0341</td>\n",
       "      <td>0.0429</td>\n",
       "    </tr>\n",
       "    <tr>\n",
       "      <th>17540</th>\n",
       "      <td>0.0285</td>\n",
       "      <td>0.0253</td>\n",
       "      <td>0.0542</td>\n",
       "      <td>0.0485</td>\n",
       "      <td>0.0131</td>\n",
       "      <td>0.0331</td>\n",
       "      <td>0.0372</td>\n",
       "      <td>0.0569</td>\n",
       "      <td>0.0669</td>\n",
       "      <td>0.0409</td>\n",
       "      <td>...</td>\n",
       "      <td>0.0116</td>\n",
       "      <td>0.0155</td>\n",
       "      <td>0.0201</td>\n",
       "      <td>0.0267</td>\n",
       "      <td>0.0207</td>\n",
       "      <td>0.0320</td>\n",
       "      <td>0.0122</td>\n",
       "      <td>0.0163</td>\n",
       "      <td>0.0306</td>\n",
       "      <td>0.0363</td>\n",
       "    </tr>\n",
       "    <tr>\n",
       "      <th>17541</th>\n",
       "      <td>0.0276</td>\n",
       "      <td>0.0257</td>\n",
       "      <td>0.0551</td>\n",
       "      <td>0.0474</td>\n",
       "      <td>0.0121</td>\n",
       "      <td>0.0326</td>\n",
       "      <td>0.0381</td>\n",
       "      <td>0.0566</td>\n",
       "      <td>0.0675</td>\n",
       "      <td>0.0386</td>\n",
       "      <td>...</td>\n",
       "      <td>0.0109</td>\n",
       "      <td>0.0142</td>\n",
       "      <td>0.0208</td>\n",
       "      <td>0.0252</td>\n",
       "      <td>0.0189</td>\n",
       "      <td>0.0287</td>\n",
       "      <td>0.0123</td>\n",
       "      <td>0.0152</td>\n",
       "      <td>0.0292</td>\n",
       "      <td>0.0325</td>\n",
       "    </tr>\n",
       "    <tr>\n",
       "      <th>17542</th>\n",
       "      <td>0.0232</td>\n",
       "      <td>0.0229</td>\n",
       "      <td>0.0496</td>\n",
       "      <td>0.0435</td>\n",
       "      <td>0.0119</td>\n",
       "      <td>0.0297</td>\n",
       "      <td>0.0361</td>\n",
       "      <td>0.0517</td>\n",
       "      <td>0.0598</td>\n",
       "      <td>0.0360</td>\n",
       "      <td>...</td>\n",
       "      <td>0.0092</td>\n",
       "      <td>0.0124</td>\n",
       "      <td>0.0219</td>\n",
       "      <td>0.0215</td>\n",
       "      <td>0.0169</td>\n",
       "      <td>0.0258</td>\n",
       "      <td>0.0096</td>\n",
       "      <td>0.0130</td>\n",
       "      <td>0.0252</td>\n",
       "      <td>0.0279</td>\n",
       "    </tr>\n",
       "    <tr>\n",
       "      <th>17543</th>\n",
       "      <td>0.0090</td>\n",
       "      <td>0.0168</td>\n",
       "      <td>0.0365</td>\n",
       "      <td>0.0328</td>\n",
       "      <td>0.0084</td>\n",
       "      <td>0.0213</td>\n",
       "      <td>0.0257</td>\n",
       "      <td>0.0475</td>\n",
       "      <td>0.0540</td>\n",
       "      <td>0.0258</td>\n",
       "      <td>...</td>\n",
       "      <td>0.0067</td>\n",
       "      <td>0.0085</td>\n",
       "      <td>0.0143</td>\n",
       "      <td>0.0151</td>\n",
       "      <td>0.0123</td>\n",
       "      <td>0.0193</td>\n",
       "      <td>0.0061</td>\n",
       "      <td>0.0098</td>\n",
       "      <td>0.0170</td>\n",
       "      <td>0.0208</td>\n",
       "    </tr>\n",
       "  </tbody>\n",
       "</table>\n",
       "<p>17544 rows × 862 columns</p>\n",
       "</div>"
      ],
      "text/plain": [
       "          r_0     r_1     r_2     r_3     r_4     r_5     r_6     r_7     r_8  \\\n",
       "0      0.0048  0.0146  0.0289  0.0142  0.0064  0.0232  0.0162  0.0242  0.0341   \n",
       "1      0.0072  0.0148  0.0350  0.0174  0.0084  0.0240  0.0201  0.0338  0.0434   \n",
       "2      0.0040  0.0101  0.0267  0.0124  0.0049  0.0170  0.0127  0.0255  0.0332   \n",
       "3      0.0039  0.0060  0.0218  0.0090  0.0029  0.0118  0.0088  0.0163  0.0211   \n",
       "4      0.0042  0.0055  0.0191  0.0082  0.0024  0.0095  0.0064  0.0087  0.0144   \n",
       "...       ...     ...     ...     ...     ...     ...     ...     ...     ...   \n",
       "17539  0.0342  0.0332  0.1378  0.0559  0.0165  0.0386  0.0457  0.0687  0.0716   \n",
       "17540  0.0285  0.0253  0.0542  0.0485  0.0131  0.0331  0.0372  0.0569  0.0669   \n",
       "17541  0.0276  0.0257  0.0551  0.0474  0.0121  0.0326  0.0381  0.0566  0.0675   \n",
       "17542  0.0232  0.0229  0.0496  0.0435  0.0119  0.0297  0.0361  0.0517  0.0598   \n",
       "17543  0.0090  0.0168  0.0365  0.0328  0.0084  0.0213  0.0257  0.0475  0.0540   \n",
       "\n",
       "          r_9  ...   r_852   r_853   r_854   r_855   r_856   r_857   r_858  \\\n",
       "0      0.0375  ...  0.0051  0.0051  0.0074  0.0079  0.0051  0.0051  0.0339   \n",
       "1      0.0381  ...  0.0036  0.0036  0.0107  0.0058  0.0036  0.0036  0.0348   \n",
       "2      0.0309  ...  0.0030  0.0030  0.0043  0.0050  0.0030  0.0030  0.0327   \n",
       "3      0.0199  ...  0.0033  0.0033  0.0019  0.0052  0.0033  0.0033  0.0292   \n",
       "4      0.0226  ...  0.0049  0.0049  0.0011  0.0071  0.0049  0.0049  0.0264   \n",
       "...       ...  ...     ...     ...     ...     ...     ...     ...     ...   \n",
       "17539  0.0518  ...  0.0139  0.0179  0.0278  0.0280  0.0227  0.0375  0.0142   \n",
       "17540  0.0409  ...  0.0116  0.0155  0.0201  0.0267  0.0207  0.0320  0.0122   \n",
       "17541  0.0386  ...  0.0109  0.0142  0.0208  0.0252  0.0189  0.0287  0.0123   \n",
       "17542  0.0360  ...  0.0092  0.0124  0.0219  0.0215  0.0169  0.0258  0.0096   \n",
       "17543  0.0258  ...  0.0067  0.0085  0.0143  0.0151  0.0123  0.0193  0.0061   \n",
       "\n",
       "        r_859   r_860   r_861  \n",
       "0      0.0051  0.0100  0.0121  \n",
       "1      0.0036  0.0087  0.0136  \n",
       "2      0.0030  0.0061  0.0107  \n",
       "3      0.0033  0.0040  0.0071  \n",
       "4      0.0049  0.0040  0.0039  \n",
       "...       ...     ...     ...  \n",
       "17539  0.0201  0.0341  0.0429  \n",
       "17540  0.0163  0.0306  0.0363  \n",
       "17541  0.0152  0.0292  0.0325  \n",
       "17542  0.0130  0.0252  0.0279  \n",
       "17543  0.0098  0.0170  0.0208  \n",
       "\n",
       "[17544 rows x 862 columns]"
      ]
     },
     "execution_count": 16,
     "metadata": {},
     "output_type": "execute_result"
    }
   ],
   "source": [
    "traffic = pd.read_csv(\"../data/traffic.txt\", header=None)\n",
    "traffic.rename(lambda x: \"r_\"+str(x), inplace=True, axis=1)\n",
    "traffic"
   ]
  },
  {
   "cell_type": "code",
   "execution_count": 17,
   "id": "191bef56",
   "metadata": {},
   "outputs": [
    {
     "data": {
      "text/plain": [
       "(862, 17544)"
      ]
     },
     "execution_count": 17,
     "metadata": {},
     "output_type": "execute_result"
    }
   ],
   "source": [
    "data = traffic.values.T\n",
    "data.shape"
   ]
  },
  {
   "cell_type": "code",
   "execution_count": 18,
   "id": "4a2d8d5e",
   "metadata": {},
   "outputs": [],
   "source": [
    "N = 862\n",
    "T = 17544\n",
    "K = 16\n",
    "lags = [1, 24]\n",
    "L = len(lags)"
   ]
  },
  {
   "cell_type": "code",
   "execution_count": 19,
   "id": "79b326b4",
   "metadata": {},
   "outputs": [],
   "source": [
    "lambda_f = 2.\n",
    "lambda_x = 2.\n",
    "lambda_w = 2.\n",
    "eta = 1.\n",
    "alpha = 1000.\n",
    "model = trmf(lags, K, lambda_f, lambda_x, lambda_w, alpha, eta, max_iter=1000)"
   ]
  },
  {
   "cell_type": "code",
   "execution_count": 20,
   "id": "bca9859b",
   "metadata": {},
   "outputs": [],
   "source": [
    "T_start = 15000\n",
    "train, test = get_slice(data, 24*7, 24, T_start)"
   ]
  },
  {
   "cell_type": "code",
   "execution_count": 21,
   "id": "02b4fa65",
   "metadata": {},
   "outputs": [],
   "source": [
    "model.fit(train)"
   ]
  },
  {
   "cell_type": "code",
   "execution_count": 22,
   "id": "dce5dcf0",
   "metadata": {},
   "outputs": [
    {
     "data": {
      "text/plain": [
       "0.42221058500058795"
      ]
     },
     "execution_count": 22,
     "metadata": {},
     "output_type": "execute_result"
    }
   ],
   "source": [
    "pred = model.predict(24)\n",
    "abs(pred-test).mean()"
   ]
  },
  {
   "cell_type": "code",
   "execution_count": 23,
   "id": "f0cceb5d",
   "metadata": {},
   "outputs": [
    {
     "data": {
      "image/png": "[encoded data removed]",
      "text/plain": [
       "<Figure size 432x288 with 1 Axes>"
      ]
     },
     "metadata": {
      "needs_background": "light"
     },
     "output_type": "display_data"
    }
   ],
   "source": [
    "train_preds = np.dot(model.F, model.X)\n",
    "test_preds = model.predict(24)\n",
    "\n",
    "idx = 10\n",
    "\n",
    "plt.figure() # figsize=(15,8)\n",
    "plt.plot(train[idx], label='train data', color='blue')\n",
    "plt.plot(train_preds[idx], label='train prediction', color='red')\n",
    "\n",
    "plt.plot([i+24*7 for i in range(24)], test[idx], label=\"test data\", color=\"green\")\n",
    "plt.plot([i+24*7 for i in range(24)], test_preds[idx], label=\"test prediction\", color=\"purple\")\n",
    "\n",
    "plt.title('Performance in train and test data')\n",
    "plt.xlabel('timepoint')\n",
    "plt.ylabel('value')\n",
    "\n",
    "plt.legend(loc=\"upper left\")\n",
    "#plt.savefig(\"../images/trmf_forecast.png\", facecolor=\"white\", bbox_inches=\"tight\")\n",
    "plt.show()"
   ]
  },
  {
   "cell_type": "code",
   "execution_count": null,
   "id": "2a2597be",
   "metadata": {},
   "outputs": [],
   "source": [
    "# TRMF model\n",
    "lags = [1, 24]\n",
    "K = 20\n",
    "lambda_f = 1.\n",
    "lambda_x = 1.\n",
    "lambda_w = 1.\n",
    "eta = 1.\n",
    "alpha = 1000.\n",
    "max_iter = 1000\n",
    "\n",
    "model = trmf(lags, K, lambda_f, lambda_x, lambda_w, alpha, eta, max_iter)\n",
    "\n",
    "scores_nd = RollingCV(model, data, 24*7, 24, T_step=168, metric='ND')\n",
    "print(\"ND scores...\")\n",
    "scores_nrmse = RollingCV(model, data, T-24*7, 24, T_step=168, metric='NRMSE')\n",
    "print(\"NRMSE scores...\")\n",
    "scores_mae = RollingCV(model, data, T-24*7, 24, T_step=168, metric='MAE')\n",
    "print(\"MAE scores...\")\n",
    "scores_mse = RollingCV(model, data, T-24*7, 24, T_step=168, metric='MSE')"
   ]
  },
  {
   "cell_type": "code",
   "execution_count": 30,
   "id": "970ecb6f",
   "metadata": {},
   "outputs": [
    {
     "name": "stdout",
     "output_type": "stream",
     "text": [
      "TRMF performance ND 0.57, NRMSE: 0.618, MAE: 0.247, MSE: 0.161\n"
     ]
    }
   ],
   "source": [
    "print('TRMF performance ND {}, NRMSE: {}, MAE: {}, MSE: {}'.format(round(np.array(scores_nd).mean(),3),\\\n",
    "                                                                   round(np.array(scores_nrmse).mean(),3),\\\n",
    "                                                                   round(np.array(scores_mae).mean(),3),\\\n",
    "                                                                   round(np.array(scores_mse).mean(),3)))"
   ]
  },
  {
   "cell_type": "markdown",
   "id": "3aea3284",
   "metadata": {},
   "source": [
    "## ETT"
   ]
  },
  {
   "cell_type": "code",
   "execution_count": 2,
   "id": "9a537ffa",
   "metadata": {},
   "outputs": [
    {
     "data": {
      "text/html": [
       "<div>\n",
       "<style scoped>\n",
       "    .dataframe tbody tr th:only-of-type {\n",
       "        vertical-align: middle;\n",
       "    }\n",
       "\n",
       "    .dataframe tbody tr th {\n",
       "        vertical-align: top;\n",
       "    }\n",
       "\n",
       "    .dataframe thead th {\n",
       "        text-align: right;\n",
       "    }\n",
       "</style>\n",
       "<table border=\"1\" class=\"dataframe\">\n",
       "  <thead>\n",
       "    <tr style=\"text-align: right;\">\n",
       "      <th></th>\n",
       "      <th>date</th>\n",
       "      <th>HUFL</th>\n",
       "      <th>HULL</th>\n",
       "      <th>MUFL</th>\n",
       "      <th>MULL</th>\n",
       "      <th>LUFL</th>\n",
       "      <th>LULL</th>\n",
       "      <th>OT</th>\n",
       "    </tr>\n",
       "  </thead>\n",
       "  <tbody>\n",
       "    <tr>\n",
       "      <th>0</th>\n",
       "      <td>2016-07-01 00:00:00</td>\n",
       "      <td>5.827</td>\n",
       "      <td>2.009</td>\n",
       "      <td>1.599</td>\n",
       "      <td>0.462</td>\n",
       "      <td>4.203</td>\n",
       "      <td>1.340</td>\n",
       "      <td>30.531000</td>\n",
       "    </tr>\n",
       "    <tr>\n",
       "      <th>1</th>\n",
       "      <td>2016-07-01 01:00:00</td>\n",
       "      <td>5.693</td>\n",
       "      <td>2.076</td>\n",
       "      <td>1.492</td>\n",
       "      <td>0.426</td>\n",
       "      <td>4.142</td>\n",
       "      <td>1.371</td>\n",
       "      <td>27.787001</td>\n",
       "    </tr>\n",
       "    <tr>\n",
       "      <th>2</th>\n",
       "      <td>2016-07-01 02:00:00</td>\n",
       "      <td>5.157</td>\n",
       "      <td>1.741</td>\n",
       "      <td>1.279</td>\n",
       "      <td>0.355</td>\n",
       "      <td>3.777</td>\n",
       "      <td>1.218</td>\n",
       "      <td>27.787001</td>\n",
       "    </tr>\n",
       "    <tr>\n",
       "      <th>3</th>\n",
       "      <td>2016-07-01 03:00:00</td>\n",
       "      <td>5.090</td>\n",
       "      <td>1.942</td>\n",
       "      <td>1.279</td>\n",
       "      <td>0.391</td>\n",
       "      <td>3.807</td>\n",
       "      <td>1.279</td>\n",
       "      <td>25.044001</td>\n",
       "    </tr>\n",
       "    <tr>\n",
       "      <th>4</th>\n",
       "      <td>2016-07-01 04:00:00</td>\n",
       "      <td>5.358</td>\n",
       "      <td>1.942</td>\n",
       "      <td>1.492</td>\n",
       "      <td>0.462</td>\n",
       "      <td>3.868</td>\n",
       "      <td>1.279</td>\n",
       "      <td>21.948000</td>\n",
       "    </tr>\n",
       "  </tbody>\n",
       "</table>\n",
       "</div>"
      ],
      "text/plain": [
       "                  date   HUFL   HULL   MUFL   MULL   LUFL   LULL         OT\n",
       "0  2016-07-01 00:00:00  5.827  2.009  1.599  0.462  4.203  1.340  30.531000\n",
       "1  2016-07-01 01:00:00  5.693  2.076  1.492  0.426  4.142  1.371  27.787001\n",
       "2  2016-07-01 02:00:00  5.157  1.741  1.279  0.355  3.777  1.218  27.787001\n",
       "3  2016-07-01 03:00:00  5.090  1.942  1.279  0.391  3.807  1.279  25.044001\n",
       "4  2016-07-01 04:00:00  5.358  1.942  1.492  0.462  3.868  1.279  21.948000"
      ]
     },
     "execution_count": 2,
     "metadata": {},
     "output_type": "execute_result"
    }
   ],
   "source": [
    "data = pd.read_csv(\"../data/ETTh1.csv\", sep=\",\")\n",
    "data.head()"
   ]
  },
  {
   "cell_type": "code",
   "execution_count": 3,
   "id": "e98efb5d",
   "metadata": {},
   "outputs": [],
   "source": [
    "# Standardize\n",
    "numerical = [\"HUFL\", \"HULL\", \"MUFL\", \"MULL\", \"LUFL\", \"LULL\", \"OT\"]\n",
    "column_std = dict()\n",
    "for num in numerical:\n",
    "    x = data.loc[:11680, num]\n",
    "    avg = x.mean()\n",
    "    std = x.std()\n",
    "    column_std[num] = {\"mean\": avg, \"std\": std}\n",
    "    data.loc[:11680, num] = (x-avg)/std # train\n",
    "    data.loc[11680:, num] = (data.loc[11680:, num]-avg)/std # test\n",
    "del x"
   ]
  },
  {
   "cell_type": "code",
   "execution_count": 4,
   "id": "9db2c4d3",
   "metadata": {},
   "outputs": [],
   "source": [
    "train = data[:11680][numerical].values.T\n",
    "test = data[11680:14600][numerical].values.T"
   ]
  },
  {
   "cell_type": "code",
   "execution_count": 41,
   "id": "f228b57b",
   "metadata": {},
   "outputs": [],
   "source": [
    "# TRMF model\n",
    "lags = [1, 24]\n",
    "K = 4\n",
    "lambda_f = .5\n",
    "lambda_x = .5\n",
    "lambda_w = .5\n",
    "eta = 1.\n",
    "alpha = 1000.\n",
    "max_iter = 1000\n",
    "\n",
    "model = trmf(lags, K, lambda_f, lambda_x, lambda_w, alpha, eta, max_iter)"
   ]
  },
  {
   "cell_type": "code",
   "execution_count": 42,
   "id": "8d5de4fc",
   "metadata": {},
   "outputs": [],
   "source": [
    "model.fit(train)"
   ]
  },
  {
   "cell_type": "code",
   "execution_count": 45,
   "id": "eb3129d0",
   "metadata": {},
   "outputs": [
    {
     "name": "stdout",
     "output_type": "stream",
     "text": [
      "24\n",
      "MSE:1.14138586866708\n",
      "MAE: 1.0429661222656161\n",
      "48\n",
      "MSE:0.9403040470450595\n",
      "MAE: 0.9370261445101123\n",
      "168\n",
      "MSE:0.8796637493151501\n",
      "MAE: 0.9000180312039978\n",
      "336\n",
      "MSE:0.8600632131561965\n",
      "MAE: 0.8989476104195424\n",
      "720\n",
      "MSE:1.2540652165694275\n",
      "MAE: 1.0800574785668384\n"
     ]
    }
   ],
   "source": [
    "for h in [24, 48, 168, 336, 720]:\n",
    "    res = model.predict(h)\n",
    "    \n",
    "    print(h)\n",
    "    print(f\"MSE:{((res-test[6, :h])**2).mean()}\") #MSE\n",
    "    print(f\"MAE: {abs(res-test[6, :h]).mean()}\") #MAE"
   ]
  },
  {
   "cell_type": "code",
   "execution_count": 44,
   "id": "829e183f",
   "metadata": {},
   "outputs": [
    {
     "data": {
      "image/png": "[encoded data removed]",
      "text/plain": [
       "<Figure size 432x288 with 1 Axes>"
      ]
     },
     "metadata": {
      "needs_background": "light"
     },
     "output_type": "display_data"
    }
   ],
   "source": [
    "train_preds = np.dot(model.F, model.X)\n",
    "test_preds = model.predict(24)\n",
    "\n",
    "idx = 6\n",
    "\n",
    "plt.figure()\n",
    "plt.plot(train[idx, -168:], label='train data', color='blue')\n",
    "plt.plot(train_preds[idx, -168:], label='train prediction', color='red')\n",
    "\n",
    "plt.plot([i+24*7 for i in range(24)], test[idx, :24], label=\"test data\", color=\"green\")\n",
    "plt.plot([i+24*7 for i in range(24)], test_preds[idx, :], label=\"test prediction\", color=\"purple\")\n",
    "\n",
    "plt.title('Performance in train and test data')\n",
    "plt.xlabel('timepoint')\n",
    "plt.ylabel('value')\n",
    "\n",
    "plt.legend(loc=\"lower left\")\n",
    "plt.show()"
   ]
  },
  {
   "cell_type": "code",
   "execution_count": null,
   "id": "477cb346",
   "metadata": {},
   "outputs": [],
   "source": []
  },
  {
   "cell_type": "code",
   "execution_count": null,
   "id": "428b83e6",
   "metadata": {},
   "outputs": [],
   "source": []
  }
 ],
 "metadata": {
  "kernelspec": {
   "display_name": "Python [conda env:suTSF] *",
   "language": "python",
   "name": "conda-env-suTSF-py"
  },
  "language_info": {
   "codemirror_mode": {
    "name": "ipython",
    "version": 3
   },
   "file_extension": ".py",
   "mimetype": "text/x-python",
   "name": "python",
   "nbconvert_exporter": "python",
   "pygments_lexer": "ipython3",
   "version": "3.8.12"
  }
 },
 "nbformat": 4,
 "nbformat_minor": 5
}
